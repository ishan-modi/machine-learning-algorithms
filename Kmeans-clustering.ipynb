{
 "cells": [
  {
   "cell_type": "code",
   "execution_count": 86,
   "metadata": {},
   "outputs": [],
   "source": [
    "import numpy as np\n",
    "import pandas as pd\n",
    "import matplotlib.pyplot as plt\n",
    "import seaborn as sns\n",
    "\n",
    "data=pd.read_csv('/home/ishan/Desktop/IRIS.csv')"
   ]
  },
  {
   "cell_type": "code",
   "execution_count": 87,
   "metadata": {},
   "outputs": [
    {
     "data": {
      "text/html": [
       "<div>\n",
       "<style scoped>\n",
       "    .dataframe tbody tr th:only-of-type {\n",
       "        vertical-align: middle;\n",
       "    }\n",
       "\n",
       "    .dataframe tbody tr th {\n",
       "        vertical-align: top;\n",
       "    }\n",
       "\n",
       "    .dataframe thead th {\n",
       "        text-align: right;\n",
       "    }\n",
       "</style>\n",
       "<table border=\"1\" class=\"dataframe\">\n",
       "  <thead>\n",
       "    <tr style=\"text-align: right;\">\n",
       "      <th></th>\n",
       "      <th>sepal_length</th>\n",
       "      <th>sepal_width</th>\n",
       "      <th>petal_length</th>\n",
       "      <th>petal_width</th>\n",
       "      <th>species</th>\n",
       "    </tr>\n",
       "  </thead>\n",
       "  <tbody>\n",
       "    <tr>\n",
       "      <th>0</th>\n",
       "      <td>5.1</td>\n",
       "      <td>3.5</td>\n",
       "      <td>1.4</td>\n",
       "      <td>0.2</td>\n",
       "      <td>Iris-setosa</td>\n",
       "    </tr>\n",
       "    <tr>\n",
       "      <th>1</th>\n",
       "      <td>4.9</td>\n",
       "      <td>3.0</td>\n",
       "      <td>1.4</td>\n",
       "      <td>0.2</td>\n",
       "      <td>Iris-setosa</td>\n",
       "    </tr>\n",
       "    <tr>\n",
       "      <th>2</th>\n",
       "      <td>4.7</td>\n",
       "      <td>3.2</td>\n",
       "      <td>1.3</td>\n",
       "      <td>0.2</td>\n",
       "      <td>Iris-setosa</td>\n",
       "    </tr>\n",
       "    <tr>\n",
       "      <th>3</th>\n",
       "      <td>4.6</td>\n",
       "      <td>3.1</td>\n",
       "      <td>1.5</td>\n",
       "      <td>0.2</td>\n",
       "      <td>Iris-setosa</td>\n",
       "    </tr>\n",
       "    <tr>\n",
       "      <th>4</th>\n",
       "      <td>5.0</td>\n",
       "      <td>3.6</td>\n",
       "      <td>1.4</td>\n",
       "      <td>0.2</td>\n",
       "      <td>Iris-setosa</td>\n",
       "    </tr>\n",
       "  </tbody>\n",
       "</table>\n",
       "</div>"
      ],
      "text/plain": [
       "   sepal_length  sepal_width  petal_length  petal_width      species\n",
       "0           5.1          3.5           1.4          0.2  Iris-setosa\n",
       "1           4.9          3.0           1.4          0.2  Iris-setosa\n",
       "2           4.7          3.2           1.3          0.2  Iris-setosa\n",
       "3           4.6          3.1           1.5          0.2  Iris-setosa\n",
       "4           5.0          3.6           1.4          0.2  Iris-setosa"
      ]
     },
     "execution_count": 87,
     "metadata": {},
     "output_type": "execute_result"
    }
   ],
   "source": [
    "data.head()"
   ]
  },
  {
   "cell_type": "code",
   "execution_count": 88,
   "metadata": {},
   "outputs": [],
   "source": [
    "cleanup_nums = {\"species\":     {\"Iris-setosa\": 1, \"Iris-versicolor\": 2 ,\"Iris-virginica\": 3}}\n",
    "data.replace(cleanup_nums,inplace=True)"
   ]
  },
  {
   "cell_type": "code",
   "execution_count": 89,
   "metadata": {},
   "outputs": [
    {
     "data": {
      "text/plain": [
       "<matplotlib.axes._subplots.AxesSubplot at 0x7efddf8d8610>"
      ]
     },
     "execution_count": 89,
     "metadata": {},
     "output_type": "execute_result"
    },
    {
     "data": {
      "image/png": "[encoded data removed]",
      "text/plain": [
       "<Figure size 432x288 with 1 Axes>"
      ]
     },
     "metadata": {
      "needs_background": "light"
     },
     "output_type": "display_data"
    }
   ],
   "source": [
    "###############################\n",
    "\n",
    "#FORMING CLUSTERS\n",
    "\n",
    "###############################\n",
    "\n",
    "def distance(c):\n",
    "    ans=[]\n",
    "    newc=np.zeros(c.shape)\n",
    "    cnt=np.zeros(len(c))\n",
    "    global arr\n",
    "    for i in range(len(arr)):\n",
    "        l=[]\n",
    "        for j in range(len(c)):\n",
    "            l.append([np.sum(((arr[i][0:4]-c[j][0:4])**2)),j+1])\n",
    "        \n",
    "        f=min(l)\n",
    "        arr[i][4]=f[1]\n",
    "        newc[f[1]-1]+=arr[i][0:4]\n",
    "        cnt[f[1]-1]+=1\n",
    "    \n",
    "    diff=[]\n",
    "    for i in range(len(newc)):\n",
    "        newc[i]=newc[i]/cnt[i]\n",
    "        diff.append(np.sum(newc[i]-c[i]))\n",
    "    if(sum(diff)<0.01):\n",
    "        return newc,True\n",
    "    else:\n",
    "        return newc,False\n",
    "    \n",
    "centers=np.asarray(data.drop('species',axis=1)[0:3])\n",
    "arr=np.asarray(data)\n",
    "arr1=np.asarray(data['species'])\n",
    "\n",
    "val=bool\n",
    "while(True):\n",
    "    centers,val=distance(centers)\n",
    "    if(val):\n",
    "        break\n",
    "\n",
    "length=len(arr)\n",
    "l=[]\n",
    "cnt=0\n",
    "for i in range(length):\n",
    "    l.append(arr[i][4])\n",
    "\n",
    "sns.countplot(arr1,hue=l)\n",
    "\n",
    "#From graph majority points in \n",
    "######class 1 belong to cluster 3\n",
    "######class 2 belong to cluster 2\n",
    "######class 3 belong to cluster 1"
   ]
  },
  {
   "cell_type": "code",
   "execution_count": 90,
   "metadata": {},
   "outputs": [
    {
     "name": "stdout",
     "output_type": "stream",
     "text": [
      "Iris-setosa\n"
     ]
    }
   ],
   "source": [
    "#########################\n",
    "\n",
    "#PREDICTION\n",
    "\n",
    "#########################\n",
    "\n",
    "test=[4.7 ,3.2 ,1.3 ,0.2 ]\n",
    "l=[]\n",
    "for j in range(len(centers)):\n",
    "    l.append([np.sum(((test[0:4]-centers[j][0:4])**2)),j+1])\n",
    "        \n",
    "ans=min(l)[1]\n",
    "\n",
    "if(ans==3):\n",
    "    print(\"Iris-setosa\")\n",
    "elif(ans==2):\n",
    "    print(\"Iris-versicolor\")\n",
    "elif(ans==1):\n",
    "    print(\"Iris-virginica\")"
   ]
  }
 ],
 "metadata": {
  "kernelspec": {
   "display_name": "Python 3",
   "language": "python",
   "name": "python3"
  },
  "language_info": {
   "codemirror_mode": {
    "name": "ipython",
    "version": 3
   },
   "file_extension": ".py",
   "mimetype": "text/x-python",
   "name": "python",
   "nbconvert_exporter": "python",
   "pygments_lexer": "ipython3",
   "version": "3.7.7"
  }
 },
 "nbformat": 4,
 "nbformat_minor": 4
}
