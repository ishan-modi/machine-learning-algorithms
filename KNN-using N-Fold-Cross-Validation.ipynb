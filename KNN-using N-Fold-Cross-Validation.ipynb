{
 "cells": [
  {
   "cell_type": "code",
   "execution_count": 140,
   "metadata": {},
   "outputs": [],
   "source": [
    "import numpy as np\n",
    "import pandas as pd\n",
    "\n",
    "data=pd.read_csv('IRIS.csv')"
   ]
  },
  {
   "cell_type": "code",
   "execution_count": 141,
   "metadata": {},
   "outputs": [
    {
     "name": "stdout",
     "output_type": "stream",
     "text": [
      "     sepal_length  sepal_width  petal_length  petal_width         species\n",
      "0             5.1          3.5           1.4          0.2     Iris-setosa\n",
      "1             4.9          3.0           1.4          0.2     Iris-setosa\n",
      "2             4.7          3.2           1.3          0.2     Iris-setosa\n",
      "3             4.6          3.1           1.5          0.2     Iris-setosa\n",
      "4             5.0          3.6           1.4          0.2     Iris-setosa\n",
      "..            ...          ...           ...          ...             ...\n",
      "145           6.7          3.0           5.2          2.3  Iris-virginica\n",
      "146           6.3          2.5           5.0          1.9  Iris-virginica\n",
      "147           6.5          3.0           5.2          2.0  Iris-virginica\n",
      "148           6.2          3.4           5.4          2.3  Iris-virginica\n",
      "149           5.9          3.0           5.1          1.8  Iris-virginica\n",
      "\n",
      "[150 rows x 5 columns]\n"
     ]
    }
   ],
   "source": [
    "print(data)"
   ]
  },
  {
   "cell_type": "code",
   "execution_count": 142,
   "metadata": {},
   "outputs": [],
   "source": [
    "cleanup_nums = {\"species\":     {\"Iris-setosa\": 1, \"Iris-versicolor\": 2 ,\"Iris-virginica\": 3}}\n",
    "data.replace(cleanup_nums,inplace=True)"
   ]
  },
  {
   "cell_type": "code",
   "execution_count": 245,
   "metadata": {
    "scrolled": false
   },
   "outputs": [
    {
     "name": "stdout",
     "output_type": "stream",
     "text": [
      "Accuracy = 0.98\n",
      "Value of K =  19\n"
     ]
    }
   ],
   "source": [
    "#########################\n",
    "\n",
    "#CHOOSING BEST PARAMETERS\n",
    "\n",
    "#########################\n",
    "\n",
    "partitions=50\n",
    "final=[]\n",
    "for k in range(19,35):\n",
    "    acc=[]\n",
    "    p=0\n",
    "    for i in range(partitions):\n",
    "        test=np.asarray(data[p:p+3])\n",
    "        temp=np.asarray(data.drop(data.index[p:p+3]))\n",
    "        ans=[]\n",
    "        for j in range(len(test)):\n",
    "            arr=[]\n",
    "            for q in range(len(temp)):\n",
    "                arr.append([np.sum((temp[q][0:4]-test[j][0:4])**2),temp[q][4]])\n",
    "\n",
    "            arr.sort(key = lambda x: x[0])\n",
    "            l=[]\n",
    "            for q in range(k):\n",
    "                l.append(arr[q][1])\n",
    "            ans.append(max(set(l), key = l.count))\n",
    "        cnt=0\n",
    "        for j in range(len(test)):\n",
    "            if(test[j][4]==ans[j]):\n",
    "                cnt+=1\n",
    "        acc.append(cnt/len(test))\n",
    "        p+=3\n",
    "    final.append([np.mean(acc),k])\n",
    "\n",
    "f=max(final)\n",
    "print(\"Accuracy =\",f[0])\n",
    "print(\"Value of K = \",f[1])"
   ]
  },
  {
   "cell_type": "code",
   "execution_count": 246,
   "metadata": {},
   "outputs": [
    {
     "name": "stdout",
     "output_type": "stream",
     "text": [
      "Iris-virginica\n"
     ]
    }
   ],
   "source": [
    "#####################\n",
    "\n",
    "#PREDICTION\n",
    "\n",
    "#####################\n",
    "\n",
    "test=np.asarray([6.7,3,5.2,2.3])\n",
    "temp=np.asarray(data)\n",
    "arr=[]\n",
    "for q in range(len(temp)):\n",
    "    arr.append([np.sum((temp[q][0:4]-test[0:4])**2),temp[q][4]])\n",
    "\n",
    "arr.sort(key = lambda x: x[0])\n",
    "l=[]\n",
    "for q in range(19):\n",
    "    l.append(arr[q][1])\n",
    "\n",
    "ans=max(set(l), key = l.count)\n",
    "\n",
    "\n",
    "if(ans==1):\n",
    "    print(\"Iris-setosa\")\n",
    "elif(ans==2):\n",
    "    print(\"Iris-versicolor\")\n",
    "else:\n",
    "    print(\"Iris-virginica\")"
   ]
  }
 ],
 "metadata": {
  "kernelspec": {
   "display_name": "Python 3",
   "language": "python",
   "name": "python3"
  },
  "language_info": {
   "codemirror_mode": {
    "name": "ipython",
    "version": 3
   },
   "file_extension": ".py",
   "mimetype": "text/x-python",
   "name": "python",
   "nbconvert_exporter": "python",
   "pygments_lexer": "ipython3",
   "version": "3.7.7"
  }
 },
 "nbformat": 4,
 "nbformat_minor": 4
}
